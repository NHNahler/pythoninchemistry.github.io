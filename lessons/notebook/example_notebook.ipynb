{
 "cells": [
  {
   "cell_type": "markdown",
   "id": "0c977540",
   "metadata": {},
   "source": [
    "# Example Notebook\n",
    "This is as a Jupyter Notebook. Notebooks are separated into cells.\n",
    "\n",
    "This is a Markdown cell, which means I can write formatted.\n",
    "\n",
    "You write *italics like this*, **bold like this**, and `monospace like this`,\n",
    "which is usually done to display code.\n",
    "- Lists\n",
    "- Like\n",
    "- This\n",
    "\n",
    "1. Or\n",
    "2. With\n",
    "3. Numbers\n",
    "\n",
    "[Hyperlinks are like this](https://www.wikipedia.org/) and maths\n",
    "like this $\\hat{H}\\Psi = E\\Psi$."
   ]
  },
  {
   "cell_type": "code",
   "execution_count": null,
   "id": "2a388f47",
   "metadata": {},
   "outputs": [],
   "source": [
    "# This is a Code cell, so you can write Python code\n",
    "print(753+247)"
   ]
  },
  {
   "cell_type": "code",
   "execution_count": null,
   "id": "5a385bd8-ca7c-49f7-b218-6301fe335a1a",
   "metadata": {},
   "outputs": [],
   "source": []
  }
 ],
 "metadata": {
  "kernelspec": {
   "display_name": "Python 3 (ipykernel)",
   "language": "python",
   "name": "python3"
  },
  "language_info": {
   "codemirror_mode": {
    "name": "ipython",
    "version": 3
   },
   "file_extension": ".py",
   "mimetype": "text/x-python",
   "name": "python",
   "nbconvert_exporter": "python",
   "pygments_lexer": "ipython3",
   "version": "3.9.12"
  }
 },
 "nbformat": 4,
 "nbformat_minor": 5
}
